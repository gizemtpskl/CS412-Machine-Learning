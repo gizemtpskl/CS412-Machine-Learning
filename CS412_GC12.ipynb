{
  "nbformat": 4,
  "nbformat_minor": 0,
  "metadata": {
    "colab": {
      "provenance": []
    },
    "kernelspec": {
      "name": "python3",
      "display_name": "Python 3"
    },
    "language_info": {
      "name": "python"
    }
  },
  "cells": [
    {
      "cell_type": "code",
      "execution_count": null,
      "metadata": {
        "id": "LWDketpicWKJ"
      },
      "outputs": [],
      "source": [
        "import numpy as np\n",
        "import matplotlib.pyplot as plt\n",
        "import pandas as pd\n",
        "import random\n",
        "\n",
        "from sklearn.model_selection import train_test_split\n",
        "from sklearn.impute import KNNImputer\n",
        "from sklearn.preprocessing import StandardScaler\n",
        "from sklearn.preprocessing import MinMaxScaler\n",
        "\n",
        "#Metrics\n",
        "from sklearn.metrics import accuracy_score\n",
        "from sklearn.model_selection import cross_val_score\n",
        "\n",
        "#Feature Selection\n",
        "from sklearn.decomposition import PCA\n",
        "from sklearn.feature_selection import SelectKBest, chi2\n",
        "\n",
        "#Models\n",
        "from sklearn.neighbors import KNeighborsClassifier\n",
        "\n",
        "\n",
        "%matplotlib inline"
      ]
    },
    {
      "cell_type": "code",
      "source": [
        "random.seed(42)\n",
        "np.random.seed(42)"
      ],
      "metadata": {
        "id": "vJ2ytnyWcgxv"
      },
      "execution_count": null,
      "outputs": []
    },
    {
      "cell_type": "code",
      "source": [
        "#Loading Dataset\n",
        "from google.colab import drive\n",
        "drive.mount('/content/drive/')\n",
        "data = pd.read_csv('/content/drive/My Drive/SU/401/CS412/Project/german_credit_data.csv') # enter the file path on your drive for the csv file\n",
        "data.head()"
      ],
      "metadata": {
        "colab": {
          "base_uri": "https://localhost:8080/",
          "height": 224
        },
        "id": "oX-mSZsveKoL",
        "outputId": "61431862-24cf-40c5-b2a4-8050e223e678"
      },
      "execution_count": null,
      "outputs": [
        {
          "output_type": "stream",
          "name": "stdout",
          "text": [
            "Drive already mounted at /content/drive/; to attempt to forcibly remount, call drive.mount(\"/content/drive/\", force_remount=True).\n"
          ]
        },
        {
          "output_type": "execute_result",
          "data": {
            "text/plain": [
              "   Unnamed: 0  Age     Sex  Job Housing Saving accounts Checking account  \\\n",
              "0           0   67    male    2     own             NaN           little   \n",
              "1           1   22  female    2     own          little         moderate   \n",
              "2           2   49    male    1     own          little              NaN   \n",
              "3           3   45    male    2    free          little           little   \n",
              "4           4   53    male    2    free          little           little   \n",
              "\n",
              "   Credit amount  Duration              Purpose  Risk  \n",
              "0           1169         6             radio/TV  good  \n",
              "1           5951        48             radio/TV   bad  \n",
              "2           2096        12            education  good  \n",
              "3           7882        42  furniture/equipment  good  \n",
              "4           4870        24                  car   bad  "
            ],
            "text/html": [
              "\n",
              "  <div id=\"df-3db4a707-d60f-4ddb-8e49-6e1e25592700\">\n",
              "    <div class=\"colab-df-container\">\n",
              "      <div>\n",
              "<style scoped>\n",
              "    .dataframe tbody tr th:only-of-type {\n",
              "        vertical-align: middle;\n",
              "    }\n",
              "\n",
              "    .dataframe tbody tr th {\n",
              "        vertical-align: top;\n",
              "    }\n",
              "\n",
              "    .dataframe thead th {\n",
              "        text-align: right;\n",
              "    }\n",
              "</style>\n",
              "<table border=\"1\" class=\"dataframe\">\n",
              "  <thead>\n",
              "    <tr style=\"text-align: right;\">\n",
              "      <th></th>\n",
              "      <th>Unnamed: 0</th>\n",
              "      <th>Age</th>\n",
              "      <th>Sex</th>\n",
              "      <th>Job</th>\n",
              "      <th>Housing</th>\n",
              "      <th>Saving accounts</th>\n",
              "      <th>Checking account</th>\n",
              "      <th>Credit amount</th>\n",
              "      <th>Duration</th>\n",
              "      <th>Purpose</th>\n",
              "      <th>Risk</th>\n",
              "    </tr>\n",
              "  </thead>\n",
              "  <tbody>\n",
              "    <tr>\n",
              "      <th>0</th>\n",
              "      <td>0</td>\n",
              "      <td>67</td>\n",
              "      <td>male</td>\n",
              "      <td>2</td>\n",
              "      <td>own</td>\n",
              "      <td>NaN</td>\n",
              "      <td>little</td>\n",
              "      <td>1169</td>\n",
              "      <td>6</td>\n",
              "      <td>radio/TV</td>\n",
              "      <td>good</td>\n",
              "    </tr>\n",
              "    <tr>\n",
              "      <th>1</th>\n",
              "      <td>1</td>\n",
              "      <td>22</td>\n",
              "      <td>female</td>\n",
              "      <td>2</td>\n",
              "      <td>own</td>\n",
              "      <td>little</td>\n",
              "      <td>moderate</td>\n",
              "      <td>5951</td>\n",
              "      <td>48</td>\n",
              "      <td>radio/TV</td>\n",
              "      <td>bad</td>\n",
              "    </tr>\n",
              "    <tr>\n",
              "      <th>2</th>\n",
              "      <td>2</td>\n",
              "      <td>49</td>\n",
              "      <td>male</td>\n",
              "      <td>1</td>\n",
              "      <td>own</td>\n",
              "      <td>little</td>\n",
              "      <td>NaN</td>\n",
              "      <td>2096</td>\n",
              "      <td>12</td>\n",
              "      <td>education</td>\n",
              "      <td>good</td>\n",
              "    </tr>\n",
              "    <tr>\n",
              "      <th>3</th>\n",
              "      <td>3</td>\n",
              "      <td>45</td>\n",
              "      <td>male</td>\n",
              "      <td>2</td>\n",
              "      <td>free</td>\n",
              "      <td>little</td>\n",
              "      <td>little</td>\n",
              "      <td>7882</td>\n",
              "      <td>42</td>\n",
              "      <td>furniture/equipment</td>\n",
              "      <td>good</td>\n",
              "    </tr>\n",
              "    <tr>\n",
              "      <th>4</th>\n",
              "      <td>4</td>\n",
              "      <td>53</td>\n",
              "      <td>male</td>\n",
              "      <td>2</td>\n",
              "      <td>free</td>\n",
              "      <td>little</td>\n",
              "      <td>little</td>\n",
              "      <td>4870</td>\n",
              "      <td>24</td>\n",
              "      <td>car</td>\n",
              "      <td>bad</td>\n",
              "    </tr>\n",
              "  </tbody>\n",
              "</table>\n",
              "</div>\n",
              "      <button class=\"colab-df-convert\" onclick=\"convertToInteractive('df-3db4a707-d60f-4ddb-8e49-6e1e25592700')\"\n",
              "              title=\"Convert this dataframe to an interactive table.\"\n",
              "              style=\"display:none;\">\n",
              "        \n",
              "  <svg xmlns=\"http://www.w3.org/2000/svg\" height=\"24px\"viewBox=\"0 0 24 24\"\n",
              "       width=\"24px\">\n",
              "    <path d=\"M0 0h24v24H0V0z\" fill=\"none\"/>\n",
              "    <path d=\"M18.56 5.44l.94 2.06.94-2.06 2.06-.94-2.06-.94-.94-2.06-.94 2.06-2.06.94zm-11 1L8.5 8.5l.94-2.06 2.06-.94-2.06-.94L8.5 2.5l-.94 2.06-2.06.94zm10 10l.94 2.06.94-2.06 2.06-.94-2.06-.94-.94-2.06-.94 2.06-2.06.94z\"/><path d=\"M17.41 7.96l-1.37-1.37c-.4-.4-.92-.59-1.43-.59-.52 0-1.04.2-1.43.59L10.3 9.45l-7.72 7.72c-.78.78-.78 2.05 0 2.83L4 21.41c.39.39.9.59 1.41.59.51 0 1.02-.2 1.41-.59l7.78-7.78 2.81-2.81c.8-.78.8-2.07 0-2.86zM5.41 20L4 18.59l7.72-7.72 1.47 1.35L5.41 20z\"/>\n",
              "  </svg>\n",
              "      </button>\n",
              "      \n",
              "  <style>\n",
              "    .colab-df-container {\n",
              "      display:flex;\n",
              "      flex-wrap:wrap;\n",
              "      gap: 12px;\n",
              "    }\n",
              "\n",
              "    .colab-df-convert {\n",
              "      background-color: #E8F0FE;\n",
              "      border: none;\n",
              "      border-radius: 50%;\n",
              "      cursor: pointer;\n",
              "      display: none;\n",
              "      fill: #1967D2;\n",
              "      height: 32px;\n",
              "      padding: 0 0 0 0;\n",
              "      width: 32px;\n",
              "    }\n",
              "\n",
              "    .colab-df-convert:hover {\n",
              "      background-color: #E2EBFA;\n",
              "      box-shadow: 0px 1px 2px rgba(60, 64, 67, 0.3), 0px 1px 3px 1px rgba(60, 64, 67, 0.15);\n",
              "      fill: #174EA6;\n",
              "    }\n",
              "\n",
              "    [theme=dark] .colab-df-convert {\n",
              "      background-color: #3B4455;\n",
              "      fill: #D2E3FC;\n",
              "    }\n",
              "\n",
              "    [theme=dark] .colab-df-convert:hover {\n",
              "      background-color: #434B5C;\n",
              "      box-shadow: 0px 1px 3px 1px rgba(0, 0, 0, 0.15);\n",
              "      filter: drop-shadow(0px 1px 2px rgba(0, 0, 0, 0.3));\n",
              "      fill: #FFFFFF;\n",
              "    }\n",
              "  </style>\n",
              "\n",
              "      <script>\n",
              "        const buttonEl =\n",
              "          document.querySelector('#df-3db4a707-d60f-4ddb-8e49-6e1e25592700 button.colab-df-convert');\n",
              "        buttonEl.style.display =\n",
              "          google.colab.kernel.accessAllowed ? 'block' : 'none';\n",
              "\n",
              "        async function convertToInteractive(key) {\n",
              "          const element = document.querySelector('#df-3db4a707-d60f-4ddb-8e49-6e1e25592700');\n",
              "          const dataTable =\n",
              "            await google.colab.kernel.invokeFunction('convertToInteractive',\n",
              "                                                     [key], {});\n",
              "          if (!dataTable) return;\n",
              "\n",
              "          const docLinkHtml = 'Like what you see? Visit the ' +\n",
              "            '<a target=\"_blank\" href=https://colab.research.google.com/notebooks/data_table.ipynb>data table notebook</a>'\n",
              "            + ' to learn more about interactive tables.';\n",
              "          element.innerHTML = '';\n",
              "          dataTable['output_type'] = 'display_data';\n",
              "          await google.colab.output.renderOutput(dataTable, element);\n",
              "          const docLink = document.createElement('div');\n",
              "          docLink.innerHTML = docLinkHtml;\n",
              "          element.appendChild(docLink);\n",
              "        }\n",
              "      </script>\n",
              "    </div>\n",
              "  </div>\n",
              "  "
            ]
          },
          "metadata": {},
          "execution_count": 26
        }
      ]
    },
    {
      "cell_type": "code",
      "source": [
        "#Encoding\n",
        "data_encoded = data[['Age','Sex','Job','Housing','Saving accounts','Checking account','Credit amount','Duration','Purpose']].copy()\n",
        "data_encoded['Sex'] = data_encoded['Sex'].replace({'female': 0, 'male': 1},)\n",
        "data_encoded[\"Saving accounts\"] = data_encoded[\"Saving accounts\"].replace({'little': 0, 'moderate': 1,'quite rich': 2, 'rich': 3})\n",
        "data_encoded[\"Housing\"]= data_encoded[\"Housing\"].replace({'free':0,'rent':1,'own':2})\n",
        "data_encoded[\"Checking account\"] = data_encoded[\"Checking account\"].replace({'little': 0, 'moderate': 1, 'rich': 2})\n",
        "data_encoded[\"Purpose\"]= data_encoded[\"Purpose\"].replace({'car':0,'furniture/equipment':1,'radio/TV':2, 'domestic appliances':3,'repairs':4,'education':5,'business':6,'vacation/others':7})\n",
        "data_encoded.head()"
      ],
      "metadata": {
        "colab": {
          "base_uri": "https://localhost:8080/",
          "height": 206
        },
        "id": "tX-1YfhL57sU",
        "outputId": "8a6a2051-2db5-4784-9183-c51cefd88bfc"
      },
      "execution_count": null,
      "outputs": [
        {
          "output_type": "execute_result",
          "data": {
            "text/plain": [
              "   Age  Sex  Job  Housing  Saving accounts  Checking account  Credit amount  \\\n",
              "0   67    1    2        2              NaN               0.0           1169   \n",
              "1   22    0    2        2              0.0               1.0           5951   \n",
              "2   49    1    1        2              0.0               NaN           2096   \n",
              "3   45    1    2        0              0.0               0.0           7882   \n",
              "4   53    1    2        0              0.0               0.0           4870   \n",
              "\n",
              "   Duration  Purpose  \n",
              "0         6        2  \n",
              "1        48        2  \n",
              "2        12        5  \n",
              "3        42        1  \n",
              "4        24        0  "
            ],
            "text/html": [
              "\n",
              "  <div id=\"df-5a07ba7f-8cd0-4b29-87cc-875e9972fe8e\">\n",
              "    <div class=\"colab-df-container\">\n",
              "      <div>\n",
              "<style scoped>\n",
              "    .dataframe tbody tr th:only-of-type {\n",
              "        vertical-align: middle;\n",
              "    }\n",
              "\n",
              "    .dataframe tbody tr th {\n",
              "        vertical-align: top;\n",
              "    }\n",
              "\n",
              "    .dataframe thead th {\n",
              "        text-align: right;\n",
              "    }\n",
              "</style>\n",
              "<table border=\"1\" class=\"dataframe\">\n",
              "  <thead>\n",
              "    <tr style=\"text-align: right;\">\n",
              "      <th></th>\n",
              "      <th>Age</th>\n",
              "      <th>Sex</th>\n",
              "      <th>Job</th>\n",
              "      <th>Housing</th>\n",
              "      <th>Saving accounts</th>\n",
              "      <th>Checking account</th>\n",
              "      <th>Credit amount</th>\n",
              "      <th>Duration</th>\n",
              "      <th>Purpose</th>\n",
              "    </tr>\n",
              "  </thead>\n",
              "  <tbody>\n",
              "    <tr>\n",
              "      <th>0</th>\n",
              "      <td>67</td>\n",
              "      <td>1</td>\n",
              "      <td>2</td>\n",
              "      <td>2</td>\n",
              "      <td>NaN</td>\n",
              "      <td>0.0</td>\n",
              "      <td>1169</td>\n",
              "      <td>6</td>\n",
              "      <td>2</td>\n",
              "    </tr>\n",
              "    <tr>\n",
              "      <th>1</th>\n",
              "      <td>22</td>\n",
              "      <td>0</td>\n",
              "      <td>2</td>\n",
              "      <td>2</td>\n",
              "      <td>0.0</td>\n",
              "      <td>1.0</td>\n",
              "      <td>5951</td>\n",
              "      <td>48</td>\n",
              "      <td>2</td>\n",
              "    </tr>\n",
              "    <tr>\n",
              "      <th>2</th>\n",
              "      <td>49</td>\n",
              "      <td>1</td>\n",
              "      <td>1</td>\n",
              "      <td>2</td>\n",
              "      <td>0.0</td>\n",
              "      <td>NaN</td>\n",
              "      <td>2096</td>\n",
              "      <td>12</td>\n",
              "      <td>5</td>\n",
              "    </tr>\n",
              "    <tr>\n",
              "      <th>3</th>\n",
              "      <td>45</td>\n",
              "      <td>1</td>\n",
              "      <td>2</td>\n",
              "      <td>0</td>\n",
              "      <td>0.0</td>\n",
              "      <td>0.0</td>\n",
              "      <td>7882</td>\n",
              "      <td>42</td>\n",
              "      <td>1</td>\n",
              "    </tr>\n",
              "    <tr>\n",
              "      <th>4</th>\n",
              "      <td>53</td>\n",
              "      <td>1</td>\n",
              "      <td>2</td>\n",
              "      <td>0</td>\n",
              "      <td>0.0</td>\n",
              "      <td>0.0</td>\n",
              "      <td>4870</td>\n",
              "      <td>24</td>\n",
              "      <td>0</td>\n",
              "    </tr>\n",
              "  </tbody>\n",
              "</table>\n",
              "</div>\n",
              "      <button class=\"colab-df-convert\" onclick=\"convertToInteractive('df-5a07ba7f-8cd0-4b29-87cc-875e9972fe8e')\"\n",
              "              title=\"Convert this dataframe to an interactive table.\"\n",
              "              style=\"display:none;\">\n",
              "        \n",
              "  <svg xmlns=\"http://www.w3.org/2000/svg\" height=\"24px\"viewBox=\"0 0 24 24\"\n",
              "       width=\"24px\">\n",
              "    <path d=\"M0 0h24v24H0V0z\" fill=\"none\"/>\n",
              "    <path d=\"M18.56 5.44l.94 2.06.94-2.06 2.06-.94-2.06-.94-.94-2.06-.94 2.06-2.06.94zm-11 1L8.5 8.5l.94-2.06 2.06-.94-2.06-.94L8.5 2.5l-.94 2.06-2.06.94zm10 10l.94 2.06.94-2.06 2.06-.94-2.06-.94-.94-2.06-.94 2.06-2.06.94z\"/><path d=\"M17.41 7.96l-1.37-1.37c-.4-.4-.92-.59-1.43-.59-.52 0-1.04.2-1.43.59L10.3 9.45l-7.72 7.72c-.78.78-.78 2.05 0 2.83L4 21.41c.39.39.9.59 1.41.59.51 0 1.02-.2 1.41-.59l7.78-7.78 2.81-2.81c.8-.78.8-2.07 0-2.86zM5.41 20L4 18.59l7.72-7.72 1.47 1.35L5.41 20z\"/>\n",
              "  </svg>\n",
              "      </button>\n",
              "      \n",
              "  <style>\n",
              "    .colab-df-container {\n",
              "      display:flex;\n",
              "      flex-wrap:wrap;\n",
              "      gap: 12px;\n",
              "    }\n",
              "\n",
              "    .colab-df-convert {\n",
              "      background-color: #E8F0FE;\n",
              "      border: none;\n",
              "      border-radius: 50%;\n",
              "      cursor: pointer;\n",
              "      display: none;\n",
              "      fill: #1967D2;\n",
              "      height: 32px;\n",
              "      padding: 0 0 0 0;\n",
              "      width: 32px;\n",
              "    }\n",
              "\n",
              "    .colab-df-convert:hover {\n",
              "      background-color: #E2EBFA;\n",
              "      box-shadow: 0px 1px 2px rgba(60, 64, 67, 0.3), 0px 1px 3px 1px rgba(60, 64, 67, 0.15);\n",
              "      fill: #174EA6;\n",
              "    }\n",
              "\n",
              "    [theme=dark] .colab-df-convert {\n",
              "      background-color: #3B4455;\n",
              "      fill: #D2E3FC;\n",
              "    }\n",
              "\n",
              "    [theme=dark] .colab-df-convert:hover {\n",
              "      background-color: #434B5C;\n",
              "      box-shadow: 0px 1px 3px 1px rgba(0, 0, 0, 0.15);\n",
              "      filter: drop-shadow(0px 1px 2px rgba(0, 0, 0, 0.3));\n",
              "      fill: #FFFFFF;\n",
              "    }\n",
              "  </style>\n",
              "\n",
              "      <script>\n",
              "        const buttonEl =\n",
              "          document.querySelector('#df-5a07ba7f-8cd0-4b29-87cc-875e9972fe8e button.colab-df-convert');\n",
              "        buttonEl.style.display =\n",
              "          google.colab.kernel.accessAllowed ? 'block' : 'none';\n",
              "\n",
              "        async function convertToInteractive(key) {\n",
              "          const element = document.querySelector('#df-5a07ba7f-8cd0-4b29-87cc-875e9972fe8e');\n",
              "          const dataTable =\n",
              "            await google.colab.kernel.invokeFunction('convertToInteractive',\n",
              "                                                     [key], {});\n",
              "          if (!dataTable) return;\n",
              "\n",
              "          const docLinkHtml = 'Like what you see? Visit the ' +\n",
              "            '<a target=\"_blank\" href=https://colab.research.google.com/notebooks/data_table.ipynb>data table notebook</a>'\n",
              "            + ' to learn more about interactive tables.';\n",
              "          element.innerHTML = '';\n",
              "          dataTable['output_type'] = 'display_data';\n",
              "          await google.colab.output.renderOutput(dataTable, element);\n",
              "          const docLink = document.createElement('div');\n",
              "          docLink.innerHTML = docLinkHtml;\n",
              "          element.appendChild(docLink);\n",
              "        }\n",
              "      </script>\n",
              "    </div>\n",
              "  </div>\n",
              "  "
            ]
          },
          "metadata": {},
          "execution_count": 27
        }
      ]
    },
    {
      "cell_type": "code",
      "source": [
        "#Standard Scale and Imputing Data\n",
        "numeric_cols = list(data_encoded.columns)\n",
        "df_encoded_scaled = data_encoded.copy()\n",
        "scaler = StandardScaler()\n",
        "\n",
        "df_encoded_scaled[numeric_cols] = scaler.fit_transform(df_encoded_scaled[numeric_cols])\n",
        "imputer = KNNImputer(n_neighbors=5)\n",
        "data_preprocessed = imputer.fit_transform(df_encoded_scaled)\n",
        "df = pd.DataFrame(data_preprocessed)\n",
        "df.rename(columns = {0:'Age', 1:'Sex', 2:'Job',\t3:'Housing',\t4:'Saving accounts',\t5:'Checking account',\t6:'Credit amount', 7:\t'Duration', 8:\t'Purpose'}, inplace = True)"
      ],
      "metadata": {
        "id": "YiMp8_hq6D0n"
      },
      "execution_count": null,
      "outputs": []
    },
    {
      "cell_type": "code",
      "source": [
        "X = df\n",
        "y = data[\"Risk\"]"
      ],
      "metadata": {
        "id": "RmOhFy6j6N2N"
      },
      "execution_count": null,
      "outputs": []
    },
    {
      "cell_type": "markdown",
      "source": [
        "# Feature Selection"
      ],
      "metadata": {
        "id": "gfKWbOMMWQk_"
      }
    },
    {
      "cell_type": "markdown",
      "source": [
        "## PCA"
      ],
      "metadata": {
        "id": "C7FNzbm8Wv2e"
      }
    },
    {
      "cell_type": "code",
      "source": [
        "#Principal Component Analysis\n",
        "X_std = (X - np.mean(X, axis=0)) / np.std(X, axis=0)\n",
        "# Perform PCA with a range of components\n",
        "pca = PCA()\n",
        "pca.fit(X_std)\n",
        "explained_variance_ratio = pca.explained_variance_ratio_\n",
        "# Plot the explained variance ratio\n",
        "plt.plot(np.cumsum(explained_variance_ratio))\n",
        "plt.xlabel('Number of Components')\n",
        "plt.ylabel('Explained Variance Ratio')\n",
        "plt.title('Explained Variance Ratio vs. Number of Components')\n",
        "plt.show()"
      ],
      "metadata": {
        "colab": {
          "base_uri": "https://localhost:8080/"
        },
        "id": "ktuMmThb_YI9",
        "outputId": "5f864f81-900f-44c8-8d02-16da0b522c02"
      },
      "execution_count": null,
      "outputs": [
        {
          "output_type": "display_data",
          "data": {
            "text/plain": [
              "<Figure size 640x480 with 1 Axes>"
            ],
            "image/png": "[encoded data removed]"
          },
          "metadata": {}
        }
      ]
    },
    {
      "cell_type": "markdown",
      "source": [
        "# Models"
      ],
      "metadata": {
        "id": "gVJcXIibWoZd"
      }
    },
    {
      "cell_type": "markdown",
      "source": [
        "###PCA with 2 components"
      ],
      "metadata": {
        "id": "khdkpYg6XS5k"
      }
    },
    {
      "cell_type": "code",
      "source": [
        "pca = PCA(n_components=2)\n",
        "X_pca = pca.fit_transform(X)\n",
        "#train-val-test split\n",
        "#using stratify since data is imbalanced\n",
        "X_training, X_test, y_training, y_test = train_test_split(X_pca, y, test_size = 0.2, stratify=y, random_state = 42)\n",
        "X_train, X_val, y_train, y_val = train_test_split(X_training, y_training, test_size = 0.2, stratify=y_training, random_state = 42)"
      ],
      "metadata": {
        "id": "jEBxH6EKBBKt"
      },
      "execution_count": null,
      "outputs": []
    },
    {
      "cell_type": "markdown",
      "source": [
        "## K-Nearest Neighbors (KNN)"
      ],
      "metadata": {
        "id": "mBKKkAP3-dTZ"
      }
    },
    {
      "cell_type": "code",
      "source": [
        "#kNN Classifier\n",
        "k_values = [1, 3, 5, 7, 9, 11, 12, 13, 14, 15, 16, 17, 19, 21, 23]   \n",
        "best_acc = -1 \n",
        "best_k = None\n",
        "val_accs = [] \n",
        "for k in k_values:\n",
        "  neigh = KNeighborsClassifier(n_neighbors=k)\n",
        "  neigh.fit(X_val, y_val)\n",
        "  scores = cross_val_score(neigh, X_val, y_val, cv=5, scoring='accuracy')\n",
        "  acc=scores.mean()\n",
        "  if acc > best_acc:\n",
        "    best_acc = acc\n",
        "    best_k = k\n",
        "print('Best validation accuracy (', best_acc, ') is achieved with k =', best_k)\n",
        "best_neigh = KNeighborsClassifier(n_neighbors=best_k)\n",
        "best_neigh.fit(X_train,y_train)\n",
        "y_pred = best_neigh.predict(X_test)\n",
        "acc = accuracy_score(y_test,y_pred)\n",
        "print('Test accuracy is ', acc)"
      ],
      "metadata": {
        "colab": {
          "base_uri": "https://localhost:8080/"
        },
        "id": "2YPies5z6hsT",
        "outputId": "3513aada-9b28-4987-ca7e-3e24c8104dc7"
      },
      "execution_count": null,
      "outputs": [
        {
          "output_type": "stream",
          "name": "stdout",
          "text": [
            "Best validation accuracy ( 0.7 ) is achieved with k = 15\n",
            "Test accuracy is  0.72\n"
          ]
        }
      ]
    },
    {
      "cell_type": "markdown",
      "source": [
        "## Decision Tree (DT)"
      ],
      "metadata": {
        "id": "nFPhmx-AVWb0"
      }
    },
    {
      "cell_type": "code",
      "source": [
        "from sklearn.tree import DecisionTreeClassifier\n",
        "from sklearn.model_selection import cross_val_score\n",
        "\n",
        "# Define the parameter values to try\n",
        "max_depth = [3, 5, 10]\n",
        "min_samples_split = [2, 5, 10]\n",
        "criterion = ['gini','entropy']\n",
        "\n",
        "best_score = 0\n",
        "best_params = {}\n",
        "\n",
        "# Iterate over each combination of hyperparameters\n",
        "for depth in max_depth:\n",
        "    for split in min_samples_split:\n",
        "      for crit in criterion:\n",
        "          dtc = DecisionTreeClassifier(max_depth=depth, min_samples_split=split, criterion = crit)\n",
        "\n",
        "          # Perform 5-fold cross-validation\n",
        "          scores = cross_val_score(dtc, X_train, y_train, cv=5)\n",
        "          \n",
        "          # Calculate the mean cross-validation score\n",
        "          mean_score = scores.mean()\n",
        "\n",
        "          if mean_score > best_score:\n",
        "              best_score = mean_score\n",
        "              best_params = {'max_depth': depth, 'min_samples_split': split ,'criterion' : crit }\n",
        "\n",
        "best_dtc = DecisionTreeClassifier(max_depth=best_params['max_depth'], min_samples_split=best_params['min_samples_split'],criterion=best_params['criterion'])\n",
        "best_dtc.fit(X_train, y_train)\n",
        "\n",
        "# Evaluate the model performance on the test set\n",
        "accuracy = best_dtc.score(X_test, y_test)\n",
        "\n",
        "# Print the best hyperparameters and the test set performance\n",
        "print('Best validation accuracy (', best_score, ') is achieved with hyperparameters:', best_params)\n",
        "print(\"Test Set Accuracy:\", accuracy)"
      ],
      "metadata": {
        "colab": {
          "base_uri": "https://localhost:8080/"
        },
        "id": "pejCzYLr8rK_",
        "outputId": "52177202-2e87-4181-af82-2cf9a3988b31"
      },
      "execution_count": null,
      "outputs": [
        {
          "output_type": "stream",
          "name": "stdout",
          "text": [
            "Best validation accuracy ( 0.7203125 ) is achieved with hyperparameters: {'max_depth': 3, 'min_samples_split': 2, 'criterion': 'gini'}\n",
            "Test Set Accuracy: 0.7\n"
          ]
        }
      ]
    },
    {
      "cell_type": "markdown",
      "source": [
        "## Logistic Regression (LR)"
      ],
      "metadata": {
        "id": "0K_3HiZ8VVSw"
      }
    },
    {
      "cell_type": "code",
      "source": [
        "from sklearn.linear_model import LogisticRegression\n",
        "\n",
        "max_iter = [1000,10000]\n",
        "C = [0.01, 0.1, 1, 10, 100,1000]\n",
        "solver = ['liblinear','lbfgs','newton-cg']\n",
        "\n",
        "best_score = 0\n",
        "best_params = {}\n",
        "\n",
        "# Iterate over each combination of hyperparameters\n",
        "for iter in max_iter:\n",
        "    for c in C:\n",
        "      for solv in solver:\n",
        "          logr = LogisticRegression(max_iter=iter, C=c, solver = solv)\n",
        "\n",
        "          # Perform 5-fold cross-validation\n",
        "          scores = cross_val_score(logr, X_train, y_train, cv=5)\n",
        "          \n",
        "          # Calculate the mean cross-validation score\n",
        "          mean_score = scores.mean()\n",
        "\n",
        "          if mean_score > best_score:\n",
        "              best_score = mean_score\n",
        "              best_params = {'max_iter': iter, 'C': c,'solver' : solv }\n",
        "\n",
        "best_logr = LogisticRegression(max_iter=best_params['max_iter'], C=best_params['C'],solver=best_params['solver'])\n",
        "best_logr.fit(X_train, y_train)\n",
        "\n",
        "# Evaluate the model performance on the test set\n",
        "accuracy = best_logr.score(X_test, y_test)\n",
        "\n",
        "# Print the best hyperparameters and the test set performance\n",
        "print('Best validation accuracy (', best_score, ') is achieved with hyperparameters:', best_params)\n",
        "print(\"Test Set Accuracy:\", accuracy)"
      ],
      "metadata": {
        "colab": {
          "base_uri": "https://localhost:8080/"
        },
        "id": "LnWGGp1_8Qhb",
        "outputId": "3ac39185-447c-4b96-de5b-c24d7408afc7"
      },
      "execution_count": null,
      "outputs": [
        {
          "output_type": "stream",
          "name": "stdout",
          "text": [
            "Best validation accuracy ( 0.715625 ) is achieved with hyperparameters: {'max_iter': 1000, 'C': 0.1, 'solver': 'liblinear'}\n",
            "Test Set Accuracy: 0.7\n"
          ]
        }
      ]
    },
    {
      "cell_type": "markdown",
      "source": [
        "## Support Vector Machines (SVM)"
      ],
      "metadata": {
        "id": "pYd9VdP_V0ZK"
      }
    },
    {
      "cell_type": "code",
      "source": [
        "from sklearn.model_selection import cross_val_score\n",
        "from sklearn.svm import SVC\n",
        "\n",
        "# Define the parameter values to try\n",
        "C_values = [0.1, 1, 10,100]\n",
        "kernel_values = ['linear', 'poly', 'rbf']\n",
        "\n",
        "best_score = 0\n",
        "best_params = {}\n",
        "\n",
        "# Iterate over each combination of hyperparameters\n",
        "for C in C_values:\n",
        "    for kernel in kernel_values:\n",
        "        # Initialize the SVM classifier with the current hyperparameters\n",
        "        svm = SVC(C=C, kernel=kernel)\n",
        "\n",
        "        # Perform 5-fold cross-validation\n",
        "        scores = cross_val_score(svm, X_val, y_val, cv=5)\n",
        "\n",
        "        # Calculate the mean cross-validation score\n",
        "        mean_score = scores.mean()\n",
        "\n",
        "        # Check if the current hyperparameters yield a better score\n",
        "        if mean_score > best_score:\n",
        "            best_score = mean_score\n",
        "            best_params = {'C': C, 'kernel': kernel}\n",
        "\n",
        "# Train the final SVM model with the best hyperparameters on the entire training set\n",
        "best_svm = SVC(C=best_params['C'], kernel=best_params['kernel'])\n",
        "best_svm.fit(X_train, y_train)\n",
        "\n",
        "from sklearn import metrics\n",
        "y_pred = best_svm.predict(X_test)\n",
        "# Model Accuracy: how often is the classifier correct?\n",
        "# Print the best hyperparameters and the test set performance\n",
        "print('Best validation accuracy (', best_score, ') is achieved with hyperparameters:', best_params)\n",
        "print(\"Test Set Accuracy:\", accuracy)"
      ],
      "metadata": {
        "colab": {
          "base_uri": "https://localhost:8080/"
        },
        "id": "-X-f64ic9PIR",
        "outputId": "3a6a28dd-beca-40e5-f2aa-c7f105a4fa9c"
      },
      "execution_count": null,
      "outputs": [
        {
          "output_type": "stream",
          "name": "stdout",
          "text": [
            "Best validation accuracy ( 0.7 ) is achieved with hyperparameters: {'C': 0.1, 'kernel': 'linear'}\n",
            "Test Set Accuracy: 0.7\n"
          ]
        }
      ]
    },
    {
      "cell_type": "markdown",
      "source": [
        "# Models"
      ],
      "metadata": {
        "id": "lPDHcst0W-5n"
      }
    },
    {
      "cell_type": "markdown",
      "source": [
        "###PCA with 5 components"
      ],
      "metadata": {
        "id": "3CtYr2xTXdSZ"
      }
    },
    {
      "cell_type": "code",
      "source": [
        "pca = PCA(n_components=5)\n",
        "X_pca = pca.fit_transform(X)\n",
        "#train-val-test split\n",
        "#using stratify since data is imbalanced\n",
        "X_training, X_test, y_training, y_test = train_test_split(X_pca, y, test_size = 0.2, stratify=y, random_state = 42)\n",
        "X_train, X_val, y_train, y_val = train_test_split(X_training, y_training, test_size = 0.2, stratify=y_training, random_state = 42)"
      ],
      "metadata": {
        "id": "_q4iM_Z8XdSb"
      },
      "execution_count": null,
      "outputs": []
    },
    {
      "cell_type": "markdown",
      "source": [
        "## K-Nearest Neighbors (KNN)"
      ],
      "metadata": {
        "id": "oOLiaMxcW-5n"
      }
    },
    {
      "cell_type": "code",
      "source": [
        "#kNN Classifier\n",
        "k_values = [1, 3, 5, 7, 9, 11, 12, 13, 14, 15, 16, 17, 19, 21, 23]   \n",
        "best_acc = -1 \n",
        "best_k = None\n",
        "val_accs = [] \n",
        "for k in k_values:\n",
        "  neigh = KNeighborsClassifier(n_neighbors=k)\n",
        "  neigh.fit(X_val, y_val)\n",
        "  scores = cross_val_score(neigh, X_val, y_val, cv=5, scoring='accuracy')\n",
        "  acc=scores.mean()\n",
        "  if acc > best_acc:\n",
        "    best_acc = acc\n",
        "    best_k = k\n",
        "print('Best validation accuracy (', best_acc, ') is achieved with k =', best_k)\n",
        "best_neigh = KNeighborsClassifier(n_neighbors=best_k)\n",
        "best_neigh.fit(X_train,y_train)\n",
        "y_pred = best_neigh.predict(X_test)\n",
        "acc = accuracy_score(y_test,y_pred)\n",
        "print('Test accuracy is ', acc)"
      ],
      "metadata": {
        "colab": {
          "base_uri": "https://localhost:8080/"
        },
        "outputId": "b5b97653-ce29-471d-b9a9-166a27c0df00",
        "id": "k0vLl0-mW-5n"
      },
      "execution_count": null,
      "outputs": [
        {
          "output_type": "stream",
          "name": "stdout",
          "text": [
            "Best validation accuracy ( 0.7 ) is achieved with k = 12\n",
            "Test accuracy is  0.685\n"
          ]
        }
      ]
    },
    {
      "cell_type": "markdown",
      "source": [
        "## Decision Tree (DT)"
      ],
      "metadata": {
        "id": "NJ0MtCsFW-5o"
      }
    },
    {
      "cell_type": "code",
      "source": [
        "from sklearn.tree import DecisionTreeClassifier\n",
        "from sklearn.model_selection import cross_val_score\n",
        "\n",
        "# Define the parameter values to try\n",
        "max_depth = [3, 5, 10]\n",
        "min_samples_split = [2, 5, 10]\n",
        "criterion = ['gini','entropy']\n",
        "\n",
        "best_score = 0\n",
        "best_params = {}\n",
        "\n",
        "# Iterate over each combination of hyperparameters\n",
        "for depth in max_depth:\n",
        "    for split in min_samples_split:\n",
        "      for crit in criterion:\n",
        "          dtc = DecisionTreeClassifier(max_depth=depth, min_samples_split=split, criterion = crit)\n",
        "\n",
        "          # Perform 5-fold cross-validation\n",
        "          scores = cross_val_score(dtc, X_train, y_train, cv=5)\n",
        "          \n",
        "          # Calculate the mean cross-validation score\n",
        "          mean_score = scores.mean()\n",
        "\n",
        "          if mean_score > best_score:\n",
        "              best_score = mean_score\n",
        "              best_params = {'max_depth': depth, 'min_samples_split': split ,'criterion' : crit }\n",
        "\n",
        "best_dtc = DecisionTreeClassifier(max_depth=best_params['max_depth'], min_samples_split=best_params['min_samples_split'],criterion=best_params['criterion'])\n",
        "best_dtc.fit(X_train, y_train)\n",
        "\n",
        "# Evaluate the model performance on the test set\n",
        "accuracy = best_dtc.score(X_test, y_test)\n",
        "\n",
        "# Print the best hyperparameters and the test set performance\n",
        "print('Best validation accuracy (', best_score, ') is achieved with hyperparameters:', best_params)\n",
        "print(\"Test Set Accuracy:\", accuracy)"
      ],
      "metadata": {
        "colab": {
          "base_uri": "https://localhost:8080/"
        },
        "outputId": "af6ef677-607f-4cba-f791-800b442e6e3b",
        "id": "0tjb6ES5W-5o"
      },
      "execution_count": null,
      "outputs": [
        {
          "output_type": "stream",
          "name": "stdout",
          "text": [
            "Best validation accuracy ( 0.70625 ) is achieved with hyperparameters: {'max_depth': 3, 'min_samples_split': 5, 'criterion': 'entropy'}\n",
            "Test Set Accuracy: 0.685\n"
          ]
        }
      ]
    },
    {
      "cell_type": "markdown",
      "source": [
        "## Logistic Regression (LR)"
      ],
      "metadata": {
        "id": "PztjxHaaW-5o"
      }
    },
    {
      "cell_type": "code",
      "source": [
        "from sklearn.linear_model import LogisticRegression\n",
        "\n",
        "max_iter = [1000,10000]\n",
        "C = [0.01, 0.1, 1, 10, 100,1000]\n",
        "solver = ['liblinear','lbfgs','newton-cg']\n",
        "\n",
        "best_score = 0\n",
        "best_params = {}\n",
        "\n",
        "# Iterate over each combination of hyperparameters\n",
        "for iter in max_iter:\n",
        "    for c in C:\n",
        "      for solv in solver:\n",
        "          logr = LogisticRegression(max_iter=iter, C=c, solver = solv)\n",
        "\n",
        "          # Perform 5-fold cross-validation\n",
        "          scores = cross_val_score(logr, X_train, y_train, cv=5)\n",
        "          \n",
        "          # Calculate the mean cross-validation score\n",
        "          mean_score = scores.mean()\n",
        "\n",
        "          if mean_score > best_score:\n",
        "              best_score = mean_score\n",
        "              best_params = {'max_iter': iter, 'C': c,'solver' : solv }\n",
        "\n",
        "best_logr = LogisticRegression(max_iter=best_params['max_iter'], C=best_params['C'],solver=best_params['solver'])\n",
        "best_logr.fit(X_train, y_train)\n",
        "\n",
        "# Evaluate the model performance on the test set\n",
        "accuracy = best_logr.score(X_test, y_test)\n",
        "\n",
        "# Print the best hyperparameters and the test set performance\n",
        "print('Best validation accuracy (', best_score, ') is achieved with hyperparameters:', best_params)\n",
        "print(\"Test Set Accuracy:\", accuracy)"
      ],
      "metadata": {
        "colab": {
          "base_uri": "https://localhost:8080/"
        },
        "outputId": "f86b9aa7-5724-489c-9f39-1bae9cdfa7cb",
        "id": "w8hF3AGbW-5o"
      },
      "execution_count": null,
      "outputs": [
        {
          "output_type": "stream",
          "name": "stdout",
          "text": [
            "Best validation accuracy ( 0.7234375 ) is achieved with hyperparameters: {'max_iter': 1000, 'C': 0.1, 'solver': 'liblinear'}\n",
            "Test Set Accuracy: 0.715\n"
          ]
        }
      ]
    },
    {
      "cell_type": "markdown",
      "source": [
        "## Support Vector Machines (SVM)"
      ],
      "metadata": {
        "id": "tNriTwFxW-5p"
      }
    },
    {
      "cell_type": "code",
      "source": [
        "from sklearn.model_selection import cross_val_score\n",
        "from sklearn.svm import SVC\n",
        "\n",
        "# Define the parameter values to try\n",
        "C_values = [0.1, 1, 10,100]\n",
        "kernel_values = ['linear', 'poly', 'rbf']\n",
        "\n",
        "best_score = 0\n",
        "best_params = {}\n",
        "\n",
        "# Iterate over each combination of hyperparameters\n",
        "for C in C_values:\n",
        "    for kernel in kernel_values:\n",
        "        # Initialize the SVM classifier with the current hyperparameters\n",
        "        svm = SVC(C=C, kernel=kernel)\n",
        "\n",
        "        # Perform 5-fold cross-validation\n",
        "        scores = cross_val_score(svm, X_val, y_val, cv=5)\n",
        "\n",
        "        # Calculate the mean cross-validation score\n",
        "        mean_score = scores.mean()\n",
        "\n",
        "        # Check if the current hyperparameters yield a better score\n",
        "        if mean_score > best_score:\n",
        "            best_score = mean_score\n",
        "            best_params = {'C': C, 'kernel': kernel}\n",
        "\n",
        "# Train the final SVM model with the best hyperparameters on the entire training set\n",
        "best_svm = SVC(C=best_params['C'], kernel=best_params['kernel'])\n",
        "best_svm.fit(X_train, y_train)\n",
        "\n",
        "from sklearn import metrics\n",
        "y_pred = best_svm.predict(X_test)\n",
        "# Model Accuracy: how often is the classifier correct?\n",
        "# Print the best hyperparameters and the test set performance\n",
        "print('Best validation accuracy (', best_score, ') is achieved with hyperparameters:', best_params)\n",
        "print(\"Test Set Accuracy:\", accuracy)"
      ],
      "metadata": {
        "colab": {
          "base_uri": "https://localhost:8080/"
        },
        "outputId": "5053a6d2-7e8b-4e20-b0da-3864ca67077f",
        "id": "NY5gPvk_W-5x"
      },
      "execution_count": null,
      "outputs": [
        {
          "output_type": "stream",
          "name": "stdout",
          "text": [
            "Best validation accuracy ( 0.7125 ) is achieved with hyperparameters: {'C': 1, 'kernel': 'linear'}\n",
            "Test Set Accuracy: 0.715\n"
          ]
        }
      ]
    },
    {
      "cell_type": "markdown",
      "source": [
        "# Models"
      ],
      "metadata": {
        "id": "8AQAvpimWs4O"
      }
    },
    {
      "cell_type": "markdown",
      "source": [
        "###PCA with 7 components"
      ],
      "metadata": {
        "id": "TyGtUKMHXman"
      }
    },
    {
      "cell_type": "code",
      "source": [
        "pca = PCA(n_components=7)\n",
        "X_pca = pca.fit_transform(X)\n",
        "#train-val-test split\n",
        "#using stratify since data is imbalanced\n",
        "X_training, X_test, y_training, y_test = train_test_split(X_pca, y, test_size = 0.2, stratify=y, random_state = 42)\n",
        "X_train, X_val, y_train, y_val = train_test_split(X_training, y_training, test_size = 0.2, stratify=y_training, random_state = 42)"
      ],
      "metadata": {
        "id": "31-_-KoHXma2"
      },
      "execution_count": null,
      "outputs": []
    },
    {
      "cell_type": "markdown",
      "source": [
        "## K-Nearest Neighbors (KNN)"
      ],
      "metadata": {
        "id": "v_KFNLx4Ws4Q"
      }
    },
    {
      "cell_type": "code",
      "source": [
        "#kNN Classifier\n",
        "k_values = [1, 3, 5, 7, 9, 11, 12, 13, 14, 15, 16, 17, 19, 21, 23]   \n",
        "best_acc = -1 \n",
        "best_k = None\n",
        "val_accs = [] \n",
        "for k in k_values:\n",
        "  neigh = KNeighborsClassifier(n_neighbors=k)\n",
        "  neigh.fit(X_val, y_val)\n",
        "  scores = cross_val_score(neigh, X_val, y_val, cv=5, scoring='accuracy')\n",
        "  acc=scores.mean()\n",
        "  if acc > best_acc:\n",
        "    best_acc = acc\n",
        "    best_k = k\n",
        "print('Best validation accuracy (', best_acc, ') is achieved with k =', best_k)\n",
        "best_neigh = KNeighborsClassifier(n_neighbors=best_k)\n",
        "best_neigh.fit(X_train,y_train)\n",
        "y_pred = best_neigh.predict(X_test)\n",
        "acc = accuracy_score(y_test,y_pred)\n",
        "print('Test accuracy is ', acc)"
      ],
      "metadata": {
        "colab": {
          "base_uri": "https://localhost:8080/"
        },
        "outputId": "9ddcbd3b-4bac-4a22-fb9a-374d472af1b3",
        "id": "FuyrzaAxWs4Q"
      },
      "execution_count": null,
      "outputs": [
        {
          "output_type": "stream",
          "name": "stdout",
          "text": [
            "Best validation accuracy ( 0.7125 ) is achieved with k = 21\n",
            "Test accuracy is  0.675\n"
          ]
        }
      ]
    },
    {
      "cell_type": "markdown",
      "source": [
        "## Decision Tree (DT)"
      ],
      "metadata": {
        "id": "4ruIhIKbWs4U"
      }
    },
    {
      "cell_type": "code",
      "source": [
        "from sklearn.tree import DecisionTreeClassifier\n",
        "from sklearn.model_selection import cross_val_score\n",
        "\n",
        "# Define the parameter values to try\n",
        "max_depth = [3, 5, 10]\n",
        "min_samples_split = [2, 5, 10]\n",
        "criterion = ['gini','entropy']\n",
        "\n",
        "best_score = 0\n",
        "best_params = {}\n",
        "\n",
        "# Iterate over each combination of hyperparameters\n",
        "for depth in max_depth:\n",
        "    for split in min_samples_split:\n",
        "      for crit in criterion:\n",
        "          dtc = DecisionTreeClassifier(max_depth=depth, min_samples_split=split, criterion = crit)\n",
        "\n",
        "          # Perform 5-fold cross-validation\n",
        "          scores = cross_val_score(dtc, X_train, y_train, cv=5)\n",
        "          \n",
        "          # Calculate the mean cross-validation score\n",
        "          mean_score = scores.mean()\n",
        "\n",
        "          if mean_score > best_score:\n",
        "              best_score = mean_score\n",
        "              best_params = {'max_depth': depth, 'min_samples_split': split ,'criterion' : crit }\n",
        "\n",
        "best_dtc = DecisionTreeClassifier(max_depth=best_params['max_depth'], min_samples_split=best_params['min_samples_split'],criterion=best_params['criterion'])\n",
        "best_dtc.fit(X_train, y_train)\n",
        "\n",
        "# Evaluate the model performance on the test set\n",
        "accuracy = best_dtc.score(X_test, y_test)\n",
        "\n",
        "# Print the best hyperparameters and the test set performance\n",
        "print('Best validation accuracy (', best_score, ') is achieved with hyperparameters:', best_params)\n",
        "print(\"Test Set Accuracy:\", accuracy)"
      ],
      "metadata": {
        "colab": {
          "base_uri": "https://localhost:8080/"
        },
        "outputId": "cb016180-bb68-4e47-b31e-5071dc202f33",
        "id": "M8RRC66WWs4U"
      },
      "execution_count": null,
      "outputs": [
        {
          "output_type": "stream",
          "name": "stdout",
          "text": [
            "Best validation accuracy ( 0.7078125 ) is achieved with hyperparameters: {'max_depth': 3, 'min_samples_split': 10, 'criterion': 'entropy'}\n",
            "Test Set Accuracy: 0.685\n"
          ]
        }
      ]
    },
    {
      "cell_type": "markdown",
      "source": [
        "## Logistic Regression (LR)"
      ],
      "metadata": {
        "id": "1gqIMxiFWs4W"
      }
    },
    {
      "cell_type": "code",
      "source": [
        "from sklearn.linear_model import LogisticRegression\n",
        "\n",
        "max_iter = [1000,10000]\n",
        "C = [0.01, 0.1, 1, 10, 100,1000]\n",
        "solver = ['liblinear','lbfgs','newton-cg']\n",
        "\n",
        "best_score = 0\n",
        "best_params = {}\n",
        "\n",
        "# Iterate over each combination of hyperparameters\n",
        "for iter in max_iter:\n",
        "    for c in C:\n",
        "      for solv in solver:\n",
        "          logr = LogisticRegression(max_iter=iter, C=c, solver = solv)\n",
        "\n",
        "          # Perform 5-fold cross-validation\n",
        "          scores = cross_val_score(logr, X_train, y_train, cv=5)\n",
        "          \n",
        "          # Calculate the mean cross-validation score\n",
        "          mean_score = scores.mean()\n",
        "\n",
        "          if mean_score > best_score:\n",
        "              best_score = mean_score\n",
        "              best_params = {'max_iter': iter, 'C': c,'solver' : solv }\n",
        "\n",
        "best_logr = LogisticRegression(max_iter=best_params['max_iter'], C=best_params['C'],solver=best_params['solver'])\n",
        "best_logr.fit(X_train, y_train)\n",
        "\n",
        "# Evaluate the model performance on the test set\n",
        "accuracy = best_logr.score(X_test, y_test)\n",
        "\n",
        "# Print the best hyperparameters and the test set performance\n",
        "print('Best validation accuracy (', best_score, ') is achieved with hyperparameters:', best_params)\n",
        "print(\"Test Set Accuracy:\", accuracy)"
      ],
      "metadata": {
        "colab": {
          "base_uri": "https://localhost:8080/"
        },
        "outputId": "1e242ebe-547f-41fa-b218-1b5b91053564",
        "id": "wmOEFDaXWs4W"
      },
      "execution_count": null,
      "outputs": [
        {
          "output_type": "stream",
          "name": "stdout",
          "text": [
            "Best validation accuracy ( 0.7296875 ) is achieved with hyperparameters: {'max_iter': 1000, 'C': 0.1, 'solver': 'liblinear'}\n",
            "Test Set Accuracy: 0.705\n"
          ]
        }
      ]
    },
    {
      "cell_type": "markdown",
      "source": [
        "## Support Vector Machines (SVM)"
      ],
      "metadata": {
        "id": "rQJG6lR0Ws4X"
      }
    },
    {
      "cell_type": "code",
      "source": [
        "from sklearn.model_selection import cross_val_score\n",
        "from sklearn.svm import SVC\n",
        "\n",
        "# Define the parameter values to try\n",
        "C_values = [0.1, 1, 10,100]\n",
        "kernel_values = ['linear', 'poly', 'rbf']\n",
        "\n",
        "best_score = 0\n",
        "best_params = {}\n",
        "\n",
        "# Iterate over each combination of hyperparameters\n",
        "for C in C_values:\n",
        "    for kernel in kernel_values:\n",
        "        # Initialize the SVM classifier with the current hyperparameters\n",
        "        svm = SVC(C=C, kernel=kernel)\n",
        "\n",
        "        # Perform 5-fold cross-validation\n",
        "        scores = cross_val_score(svm, X_val, y_val, cv=5)\n",
        "\n",
        "        # Calculate the mean cross-validation score\n",
        "        mean_score = scores.mean()\n",
        "\n",
        "        # Check if the current hyperparameters yield a better score\n",
        "        if mean_score > best_score:\n",
        "            best_score = mean_score\n",
        "            best_params = {'C': C, 'kernel': kernel}\n",
        "\n",
        "# Train the final SVM model with the best hyperparameters on the entire training set\n",
        "best_svm = SVC(C=best_params['C'], kernel=best_params['kernel'])\n",
        "best_svm.fit(X_train, y_train)\n",
        "\n",
        "from sklearn import metrics\n",
        "y_pred = best_svm.predict(X_test)\n",
        "# Model Accuracy: how often is the classifier correct?\n",
        "# Print the best hyperparameters and the test set performance\n",
        "print('Best validation accuracy (', best_score, ') is achieved with hyperparameters:', best_params)\n",
        "print(\"Test Set Accuracy:\", accuracy)"
      ],
      "metadata": {
        "colab": {
          "base_uri": "https://localhost:8080/"
        },
        "outputId": "2a0943b2-8ea6-46eb-d973-a3767ebedf24",
        "id": "D8LjF3uyWs4Y"
      },
      "execution_count": null,
      "outputs": [
        {
          "output_type": "stream",
          "name": "stdout",
          "text": [
            "Best validation accuracy ( 0.7 ) is achieved with hyperparameters: {'C': 0.1, 'kernel': 'linear'}\n",
            "Test Set Accuracy: 0.705\n"
          ]
        }
      ]
    },
    {
      "cell_type": "markdown",
      "source": [
        "# Models"
      ],
      "metadata": {
        "id": "iztzHQWIYtiQ"
      }
    },
    {
      "cell_type": "code",
      "source": [
        "#MinMaxScale and Imputing Data (Since K best does not work with negative data)\n",
        "numeric_cols = list(data_encoded.columns)\n",
        "df_encoded_scaled = data_encoded.copy()\n",
        "scaler = MinMaxScaler()\n",
        "\n",
        "df_encoded_scaled[numeric_cols] = scaler.fit_transform(df_encoded_scaled[numeric_cols])\n",
        "imputer = KNNImputer(n_neighbors=5)\n",
        "data_preprocessed = imputer.fit_transform(df_encoded_scaled)\n",
        "df = pd.DataFrame(data_preprocessed)\n",
        "df.rename(columns = {0:'Age', 1:'Sex', 2:'Job',\t3:'Housing',\t4:'Saving accounts',\t5:'Checking account',\t6:'Credit amount', 7:\t'Duration', 8:\t'Purpose'}, inplace = True)\n",
        "X = df\n",
        "y = data[\"Risk\"]"
      ],
      "metadata": {
        "id": "6_MOgB8dafX1"
      },
      "execution_count": null,
      "outputs": []
    },
    {
      "cell_type": "markdown",
      "source": [
        "###Select K (2) Best Using Chi-Squared"
      ],
      "metadata": {
        "id": "_oZnlwQrYay3"
      }
    },
    {
      "cell_type": "code",
      "source": [
        "#Feature selection using chi-squared test\n",
        "selector = SelectKBest(score_func=chi2, k=2)  \n",
        "X_selected = selector.fit_transform(X, y)\n",
        "X_training, X_test, y_training, y_test = train_test_split(X_selected, y, test_size = 0.2, stratify=y, random_state = 42)\n",
        "X_train, X_val, y_train, y_val = train_test_split(X_training, y_training, test_size = 0.2, stratify=y_training, random_state = 42)"
      ],
      "metadata": {
        "id": "uiOIU-7UYtiZ"
      },
      "execution_count": null,
      "outputs": []
    },
    {
      "cell_type": "markdown",
      "source": [
        "## K-Nearest Neighbors (KNN)"
      ],
      "metadata": {
        "id": "kEX8lIxuYtiZ"
      }
    },
    {
      "cell_type": "code",
      "source": [
        "#kNN Classifier\n",
        "k_values = [1, 3, 5, 7, 9, 11, 12, 13, 14, 15, 16, 17, 19, 21, 23]   \n",
        "best_acc = -1 \n",
        "best_k = None\n",
        "val_accs = [] \n",
        "for k in k_values:\n",
        "  neigh = KNeighborsClassifier(n_neighbors=k)\n",
        "  neigh.fit(X_val, y_val)\n",
        "  scores = cross_val_score(neigh, X_val, y_val, cv=5, scoring='accuracy')\n",
        "  acc=scores.mean()\n",
        "  if acc > best_acc:\n",
        "    best_acc = acc\n",
        "    best_k = k\n",
        "print('Best validation accuracy (', best_acc, ') is achieved with k =', best_k)\n",
        "best_neigh = KNeighborsClassifier(n_neighbors=best_k)\n",
        "best_neigh.fit(X_train,y_train)\n",
        "y_pred = best_neigh.predict(X_test)\n",
        "acc = accuracy_score(y_test,y_pred)\n",
        "print('Test accuracy is ', acc)"
      ],
      "metadata": {
        "colab": {
          "base_uri": "https://localhost:8080/"
        },
        "outputId": "4878c2b6-5c20-4998-a6c0-9de6cd5b8028",
        "id": "_GkCUh0uYtia"
      },
      "execution_count": null,
      "outputs": [
        {
          "output_type": "stream",
          "name": "stdout",
          "text": [
            "Best validation accuracy ( 0.7 ) is achieved with k = 19\n",
            "Test accuracy is  0.715\n"
          ]
        }
      ]
    },
    {
      "cell_type": "markdown",
      "source": [
        "## Decision Tree (DT)"
      ],
      "metadata": {
        "id": "_5VLL8-AYtia"
      }
    },
    {
      "cell_type": "code",
      "source": [
        "from sklearn.tree import DecisionTreeClassifier\n",
        "from sklearn.model_selection import cross_val_score\n",
        "\n",
        "# Define the parameter values to try\n",
        "max_depth = [3, 5, 10]\n",
        "min_samples_split = [2, 5, 10]\n",
        "criterion = ['gini','entropy']\n",
        "\n",
        "best_score = 0\n",
        "best_params = {}\n",
        "\n",
        "# Iterate over each combination of hyperparameters\n",
        "for depth in max_depth:\n",
        "    for split in min_samples_split:\n",
        "      for crit in criterion:\n",
        "          dtc = DecisionTreeClassifier(max_depth=depth, min_samples_split=split, criterion = crit)\n",
        "\n",
        "          # Perform 5-fold cross-validation\n",
        "          scores = cross_val_score(dtc, X_train, y_train, cv=5)\n",
        "          \n",
        "          # Calculate the mean cross-validation score\n",
        "          mean_score = scores.mean()\n",
        "\n",
        "          if mean_score > best_score:\n",
        "              best_score = mean_score\n",
        "              best_params = {'max_depth': depth, 'min_samples_split': split ,'criterion' : crit }\n",
        "\n",
        "best_dtc = DecisionTreeClassifier(max_depth=best_params['max_depth'], min_samples_split=best_params['min_samples_split'],criterion=best_params['criterion'])\n",
        "best_dtc.fit(X_train, y_train)\n",
        "\n",
        "# Evaluate the model performance on the test set\n",
        "accuracy = best_dtc.score(X_test, y_test)\n",
        "\n",
        "# Print the best hyperparameters and the test set performance\n",
        "print('Best validation accuracy (', best_score, ') is achieved with hyperparameters:', best_params)\n",
        "print(\"Test Set Accuracy:\", accuracy)"
      ],
      "metadata": {
        "colab": {
          "base_uri": "https://localhost:8080/"
        },
        "outputId": "b5a339dc-8a8d-460d-ed90-38d476bc385d",
        "id": "rPz36tq_Ytia"
      },
      "execution_count": null,
      "outputs": [
        {
          "output_type": "stream",
          "name": "stdout",
          "text": [
            "Best validation accuracy ( 0.71875 ) is achieved with hyperparameters: {'max_depth': 3, 'min_samples_split': 2, 'criterion': 'entropy'}\n",
            "Test Set Accuracy: 0.71\n"
          ]
        }
      ]
    },
    {
      "cell_type": "markdown",
      "source": [
        "## Logistic Regression (LR)"
      ],
      "metadata": {
        "id": "zUlfuuzsYtib"
      }
    },
    {
      "cell_type": "code",
      "source": [
        "from sklearn.linear_model import LogisticRegression\n",
        "\n",
        "max_iter = [1000,10000]\n",
        "C = [0.01, 0.1, 1, 10, 100,1000]\n",
        "solver = ['liblinear','lbfgs','newton-cg']\n",
        "\n",
        "best_score = 0\n",
        "best_params = {}\n",
        "\n",
        "# Iterate over each combination of hyperparameters\n",
        "for iter in max_iter:\n",
        "    for c in C:\n",
        "      for solv in solver:\n",
        "          logr = LogisticRegression(max_iter=iter, C=c, solver = solv)\n",
        "\n",
        "          # Perform 5-fold cross-validation\n",
        "          scores = cross_val_score(logr, X_train, y_train, cv=5)\n",
        "          \n",
        "          # Calculate the mean cross-validation score\n",
        "          mean_score = scores.mean()\n",
        "\n",
        "          if mean_score > best_score:\n",
        "              best_score = mean_score\n",
        "              best_params = {'max_iter': iter, 'C': c,'solver' : solv }\n",
        "\n",
        "best_logr = LogisticRegression(max_iter=best_params['max_iter'], C=best_params['C'],solver=best_params['solver'])\n",
        "best_logr.fit(X_train, y_train)\n",
        "\n",
        "# Evaluate the model performance on the test set\n",
        "accuracy = best_logr.score(X_test, y_test)\n",
        "\n",
        "# Print the best hyperparameters and the test set performance\n",
        "print('Best validation accuracy (', best_score, ') is achieved with hyperparameters:', best_params)\n",
        "print(\"Test Set Accuracy:\", accuracy)"
      ],
      "metadata": {
        "colab": {
          "base_uri": "https://localhost:8080/"
        },
        "outputId": "9d73937f-b307-47b4-b479-26deed01976f",
        "id": "EgQurcktYtib"
      },
      "execution_count": null,
      "outputs": [
        {
          "output_type": "stream",
          "name": "stdout",
          "text": [
            "Best validation accuracy ( 0.7203125 ) is achieved with hyperparameters: {'max_iter': 1000, 'C': 1, 'solver': 'liblinear'}\n",
            "Test Set Accuracy: 0.7\n"
          ]
        }
      ]
    },
    {
      "cell_type": "markdown",
      "source": [
        "## Support Vector Machines (SVM)"
      ],
      "metadata": {
        "id": "0iGleTTuYtib"
      }
    },
    {
      "cell_type": "code",
      "source": [
        "from sklearn.model_selection import cross_val_score\n",
        "from sklearn.svm import SVC\n",
        "\n",
        "# Define the parameter values to try\n",
        "C_values = [0.1, 1, 10,100]\n",
        "kernel_values = ['linear', 'poly', 'rbf']\n",
        "\n",
        "best_score = 0\n",
        "best_params = {}\n",
        "\n",
        "# Iterate over each combination of hyperparameters\n",
        "for C in C_values:\n",
        "    for kernel in kernel_values:\n",
        "        # Initialize the SVM classifier with the current hyperparameters\n",
        "        svm = SVC(C=C, kernel=kernel)\n",
        "\n",
        "        # Perform 5-fold cross-validation\n",
        "        scores = cross_val_score(svm, X_val, y_val, cv=5)\n",
        "\n",
        "        # Calculate the mean cross-validation score\n",
        "        mean_score = scores.mean()\n",
        "\n",
        "        # Check if the current hyperparameters yield a better score\n",
        "        if mean_score > best_score:\n",
        "            best_score = mean_score\n",
        "            best_params = {'C': C, 'kernel': kernel}\n",
        "\n",
        "# Train the final SVM model with the best hyperparameters on the entire training set\n",
        "best_svm = SVC(C=best_params['C'], kernel=best_params['kernel'])\n",
        "best_svm.fit(X_train, y_train)\n",
        "\n",
        "from sklearn import metrics\n",
        "y_pred = best_svm.predict(X_test)\n",
        "# Model Accuracy: how often is the classifier correct?\n",
        "# Print the best hyperparameters and the test set performance\n",
        "print('Best validation accuracy (', best_score, ') is achieved with hyperparameters:', best_params)\n",
        "print(\"Test Set Accuracy:\", accuracy)"
      ],
      "metadata": {
        "colab": {
          "base_uri": "https://localhost:8080/"
        },
        "outputId": "b60bd4b1-1a19-41f3-cd36-a5d45ec0204c",
        "id": "417i6kh1Ytib"
      },
      "execution_count": null,
      "outputs": [
        {
          "output_type": "stream",
          "name": "stdout",
          "text": [
            "Best validation accuracy ( 0.70625 ) is achieved with hyperparameters: {'C': 10, 'kernel': 'rbf'}\n",
            "Test Set Accuracy: 0.7\n"
          ]
        }
      ]
    },
    {
      "cell_type": "markdown",
      "source": [
        "# Models"
      ],
      "metadata": {
        "id": "gchUapL_ZIVh"
      }
    },
    {
      "cell_type": "markdown",
      "source": [
        "###Select K (5) Best Using Chi-Squared"
      ],
      "metadata": {
        "id": "09K1rWn_ZIVr"
      }
    },
    {
      "cell_type": "code",
      "source": [
        "#Feature selection using chi-squared test\n",
        "selector = SelectKBest(score_func=chi2, k=5)  \n",
        "X_selected = selector.fit_transform(X, y)\n",
        "X_training, X_test, y_training, y_test = train_test_split(X_selected, y, test_size = 0.2, stratify=y, random_state = 42)\n",
        "X_train, X_val, y_train, y_val = train_test_split(X_training, y_training, test_size = 0.2, stratify=y_training, random_state = 42)"
      ],
      "metadata": {
        "id": "NMQijTbIZIVs"
      },
      "execution_count": null,
      "outputs": []
    },
    {
      "cell_type": "markdown",
      "source": [
        "## K-Nearest Neighbors (KNN)"
      ],
      "metadata": {
        "id": "IWE48K4qZIVs"
      }
    },
    {
      "cell_type": "code",
      "source": [
        "#kNN Classifier\n",
        "k_values = [1, 3, 5, 7, 9, 11, 12, 13, 14, 15, 16, 17, 19, 21, 23]   \n",
        "best_acc = -1 \n",
        "best_k = None\n",
        "val_accs = [] \n",
        "for k in k_values:\n",
        "  neigh = KNeighborsClassifier(n_neighbors=k)\n",
        "  neigh.fit(X_val, y_val)\n",
        "  scores = cross_val_score(neigh, X_val, y_val, cv=5, scoring='accuracy')\n",
        "  acc=scores.mean()\n",
        "  if acc > best_acc:\n",
        "    best_acc = acc\n",
        "    best_k = k\n",
        "print('Best validation accuracy (', best_acc, ') is achieved with k =', best_k)\n",
        "best_neigh = KNeighborsClassifier(n_neighbors=best_k)\n",
        "best_neigh.fit(X_train,y_train)\n",
        "y_pred = best_neigh.predict(X_test)\n",
        "acc = accuracy_score(y_test,y_pred)\n",
        "print('Test accuracy is ', acc)"
      ],
      "metadata": {
        "colab": {
          "base_uri": "https://localhost:8080/"
        },
        "outputId": "4e94297f-01d8-496d-8022-c918d996d61d",
        "id": "tCRGuU40ZIVs"
      },
      "execution_count": null,
      "outputs": [
        {
          "output_type": "stream",
          "name": "stdout",
          "text": [
            "Best validation accuracy ( 0.75 ) is achieved with k = 13\n",
            "Test accuracy is  0.76\n"
          ]
        }
      ]
    },
    {
      "cell_type": "markdown",
      "source": [
        "## Decision Tree (DT)"
      ],
      "metadata": {
        "id": "w3KRn6imZIVt"
      }
    },
    {
      "cell_type": "code",
      "source": [
        "from sklearn.tree import DecisionTreeClassifier\n",
        "from sklearn.model_selection import cross_val_score\n",
        "\n",
        "# Define the parameter values to try\n",
        "max_depth = [3, 5, 10]\n",
        "min_samples_split = [2, 5, 10]\n",
        "criterion = ['gini','entropy']\n",
        "\n",
        "best_score = 0\n",
        "best_params = {}\n",
        "\n",
        "# Iterate over each combination of hyperparameters\n",
        "for depth in max_depth:\n",
        "    for split in min_samples_split:\n",
        "      for crit in criterion:\n",
        "          dtc = DecisionTreeClassifier(max_depth=depth, min_samples_split=split, criterion = crit)\n",
        "\n",
        "          # Perform 5-fold cross-validation\n",
        "          scores = cross_val_score(dtc, X_train, y_train, cv=5)\n",
        "          \n",
        "          # Calculate the mean cross-validation score\n",
        "          mean_score = scores.mean()\n",
        "\n",
        "          if mean_score > best_score:\n",
        "              best_score = mean_score\n",
        "              best_params = {'max_depth': depth, 'min_samples_split': split ,'criterion' : crit }\n",
        "\n",
        "best_dtc = DecisionTreeClassifier(max_depth=best_params['max_depth'], min_samples_split=best_params['min_samples_split'],criterion=best_params['criterion'])\n",
        "best_dtc.fit(X_train, y_train)\n",
        "\n",
        "# Evaluate the model performance on the test set\n",
        "accuracy = best_dtc.score(X_test, y_test)\n",
        "\n",
        "# Print the best hyperparameters and the test set performance\n",
        "print('Best validation accuracy (', best_score, ') is achieved with hyperparameters:', best_params)\n",
        "print(\"Test Set Accuracy:\", accuracy)"
      ],
      "metadata": {
        "colab": {
          "base_uri": "https://localhost:8080/"
        },
        "outputId": "d5687ad0-7440-40fc-d354-680fa70b3c28",
        "id": "9kPaJNg2ZIVt"
      },
      "execution_count": null,
      "outputs": [
        {
          "output_type": "stream",
          "name": "stdout",
          "text": [
            "Best validation accuracy ( 0.725 ) is achieved with hyperparameters: {'max_depth': 5, 'min_samples_split': 10, 'criterion': 'gini'}\n",
            "Test Set Accuracy: 0.715\n"
          ]
        }
      ]
    },
    {
      "cell_type": "markdown",
      "source": [
        "## Logistic Regression (LR)"
      ],
      "metadata": {
        "id": "fDRAjwjtZIVt"
      }
    },
    {
      "cell_type": "code",
      "source": [
        "from sklearn.linear_model import LogisticRegression\n",
        "\n",
        "max_iter = [1000,10000]\n",
        "C = [0.01, 0.1, 1, 10, 100,1000]\n",
        "solver = ['liblinear','lbfgs','newton-cg']\n",
        "\n",
        "best_score = 0\n",
        "best_params = {}\n",
        "\n",
        "# Iterate over each combination of hyperparameters\n",
        "for iter in max_iter:\n",
        "    for c in C:\n",
        "      for solv in solver:\n",
        "          logr = LogisticRegression(max_iter=iter, C=c, solver = solv)\n",
        "\n",
        "          # Perform 5-fold cross-validation\n",
        "          scores = cross_val_score(logr, X_train, y_train, cv=5)\n",
        "          \n",
        "          # Calculate the mean cross-validation score\n",
        "          mean_score = scores.mean()\n",
        "\n",
        "          if mean_score > best_score:\n",
        "              best_score = mean_score\n",
        "              best_params = {'max_iter': iter, 'C': c,'solver' : solv }\n",
        "\n",
        "best_logr = LogisticRegression(max_iter=best_params['max_iter'], C=best_params['C'],solver=best_params['solver'])\n",
        "best_logr.fit(X_train, y_train)\n",
        "\n",
        "# Evaluate the model performance on the test set\n",
        "accuracy = best_logr.score(X_test, y_test)\n",
        "\n",
        "# Print the best hyperparameters and the test set performance\n",
        "print('Best validation accuracy (', best_score, ') is achieved with hyperparameters:', best_params)\n",
        "print(\"Test Set Accuracy:\", accuracy)"
      ],
      "metadata": {
        "colab": {
          "base_uri": "https://localhost:8080/"
        },
        "outputId": "bb2adbf7-03ff-4aff-c76d-1f195048290e",
        "id": "VIJCICoyZIVt"
      },
      "execution_count": null,
      "outputs": [
        {
          "output_type": "stream",
          "name": "stdout",
          "text": [
            "Best validation accuracy ( 0.7109375 ) is achieved with hyperparameters: {'max_iter': 1000, 'C': 1, 'solver': 'liblinear'}\n",
            "Test Set Accuracy: 0.7\n"
          ]
        }
      ]
    },
    {
      "cell_type": "markdown",
      "source": [
        "## Support Vector Machines (SVM)"
      ],
      "metadata": {
        "id": "Y4on6KyaZIVu"
      }
    },
    {
      "cell_type": "code",
      "source": [
        "from sklearn.model_selection import cross_val_score\n",
        "from sklearn.svm import SVC\n",
        "\n",
        "# Define the parameter values to try\n",
        "C_values = [0.1, 1, 10,100]\n",
        "kernel_values = ['linear', 'poly', 'rbf']\n",
        "\n",
        "best_score = 0\n",
        "best_params = {}\n",
        "\n",
        "# Iterate over each combination of hyperparameters\n",
        "for C in C_values:\n",
        "    for kernel in kernel_values:\n",
        "        # Initialize the SVM classifier with the current hyperparameters\n",
        "        svm = SVC(C=C, kernel=kernel)\n",
        "\n",
        "        # Perform 5-fold cross-validation\n",
        "        scores = cross_val_score(svm, X_val, y_val, cv=5)\n",
        "\n",
        "        # Calculate the mean cross-validation score\n",
        "        mean_score = scores.mean()\n",
        "\n",
        "        # Check if the current hyperparameters yield a better score\n",
        "        if mean_score > best_score:\n",
        "            best_score = mean_score\n",
        "            best_params = {'C': C, 'kernel': kernel}\n",
        "\n",
        "# Train the final SVM model with the best hyperparameters on the entire training set\n",
        "best_svm = SVC(C=best_params['C'], kernel=best_params['kernel'])\n",
        "best_svm.fit(X_train, y_train)\n",
        "\n",
        "from sklearn import metrics\n",
        "y_pred = best_svm.predict(X_test)\n",
        "# Model Accuracy: how often is the classifier correct?\n",
        "# Print the best hyperparameters and the test set performance\n",
        "print('Best validation accuracy (', best_score, ') is achieved with hyperparameters:', best_params)\n",
        "print(\"Test Set Accuracy:\", accuracy)"
      ],
      "metadata": {
        "colab": {
          "base_uri": "https://localhost:8080/"
        },
        "outputId": "4f3cfc9e-9a0e-4ad3-b2d4-14ef6f8c417e",
        "id": "upH4ARfWZIVu"
      },
      "execution_count": null,
      "outputs": [
        {
          "output_type": "stream",
          "name": "stdout",
          "text": [
            "Best validation accuracy ( 0.75 ) is achieved with hyperparameters: {'C': 10, 'kernel': 'rbf'}\n",
            "Test Set Accuracy: 0.7\n"
          ]
        }
      ]
    },
    {
      "cell_type": "markdown",
      "source": [
        "# Models"
      ],
      "metadata": {
        "id": "Wi_Z_2mvZjVE"
      }
    },
    {
      "cell_type": "markdown",
      "source": [
        "###Select K (7) Best Using Chi-Squared"
      ],
      "metadata": {
        "id": "K66HhM4yZjVM"
      }
    },
    {
      "cell_type": "code",
      "source": [
        "#Feature selection using chi-squared test\n",
        "selector = SelectKBest(score_func=chi2, k=7)  \n",
        "X_selected = selector.fit_transform(X, y)\n",
        "X_training, X_test, y_training, y_test = train_test_split(X_selected, y, test_size = 0.2, stratify=y, random_state = 42)\n",
        "X_train, X_val, y_train, y_val = train_test_split(X_training, y_training, test_size = 0.2, stratify=y_training, random_state = 42)"
      ],
      "metadata": {
        "id": "T23gAKK4ZjVM"
      },
      "execution_count": null,
      "outputs": []
    },
    {
      "cell_type": "markdown",
      "source": [
        "## K-Nearest Neighbors (KNN)"
      ],
      "metadata": {
        "id": "36MWtr3_ZjVN"
      }
    },
    {
      "cell_type": "code",
      "source": [
        "#kNN Classifier\n",
        "k_values = [1, 3, 5, 7, 9, 11, 12, 13, 14, 15, 16, 17, 19, 21, 23]   \n",
        "best_acc = -1 \n",
        "best_k = None\n",
        "val_accs = [] \n",
        "for k in k_values:\n",
        "  neigh = KNeighborsClassifier(n_neighbors=k)\n",
        "  neigh.fit(X_val, y_val)\n",
        "  scores = cross_val_score(neigh, X_val, y_val, cv=5, scoring='accuracy')\n",
        "  acc=scores.mean()\n",
        "  if acc > best_acc:\n",
        "    best_acc = acc\n",
        "    best_k = k\n",
        "print('Best validation accuracy (', best_acc, ') is achieved with k =', best_k)\n",
        "best_neigh = KNeighborsClassifier(n_neighbors=best_k)\n",
        "best_neigh.fit(X_train,y_train)\n",
        "y_pred = best_neigh.predict(X_test)\n",
        "acc = accuracy_score(y_test,y_pred)\n",
        "print('Test accuracy is ', acc)"
      ],
      "metadata": {
        "colab": {
          "base_uri": "https://localhost:8080/"
        },
        "outputId": "b4e23cf3-9b87-4d04-8627-443676468e17",
        "id": "I_756hIIZjVN"
      },
      "execution_count": null,
      "outputs": [
        {
          "output_type": "stream",
          "name": "stdout",
          "text": [
            "Best validation accuracy ( 0.73125 ) is achieved with k = 7\n",
            "Test accuracy is  0.68\n"
          ]
        }
      ]
    },
    {
      "cell_type": "markdown",
      "source": [
        "## Decision Tree (DT)"
      ],
      "metadata": {
        "id": "zZGJ_UL8ZjVN"
      }
    },
    {
      "cell_type": "code",
      "source": [
        "from sklearn.tree import DecisionTreeClassifier\n",
        "from sklearn.model_selection import cross_val_score\n",
        "\n",
        "# Define the parameter values to try\n",
        "max_depth = [3, 5, 10]\n",
        "min_samples_split = [2, 5, 10]\n",
        "criterion = ['gini','entropy']\n",
        "\n",
        "best_score = 0\n",
        "best_params = {}\n",
        "\n",
        "# Iterate over each combination of hyperparameters\n",
        "for depth in max_depth:\n",
        "    for split in min_samples_split:\n",
        "      for crit in criterion:\n",
        "          dtc = DecisionTreeClassifier(max_depth=depth, min_samples_split=split, criterion = crit)\n",
        "\n",
        "          # Perform 5-fold cross-validation\n",
        "          scores = cross_val_score(dtc, X_train, y_train, cv=5)\n",
        "          \n",
        "          # Calculate the mean cross-validation score\n",
        "          mean_score = scores.mean()\n",
        "\n",
        "          if mean_score > best_score:\n",
        "              best_score = mean_score\n",
        "              best_params = {'max_depth': depth, 'min_samples_split': split ,'criterion' : crit }\n",
        "\n",
        "best_dtc = DecisionTreeClassifier(max_depth=best_params['max_depth'], min_samples_split=best_params['min_samples_split'],criterion=best_params['criterion'])\n",
        "best_dtc.fit(X_train, y_train)\n",
        "\n",
        "# Evaluate the model performance on the test set\n",
        "accuracy = best_dtc.score(X_test, y_test)\n",
        "\n",
        "# Print the best hyperparameters and the test set performance\n",
        "print('Best validation accuracy (', best_score, ') is achieved with hyperparameters:', best_params)\n",
        "print(\"Test Set Accuracy:\", accuracy)"
      ],
      "metadata": {
        "colab": {
          "base_uri": "https://localhost:8080/"
        },
        "outputId": "6916711e-8b00-495e-cbd1-e004d0e2c286",
        "id": "1ldyRPLPZjVN"
      },
      "execution_count": null,
      "outputs": [
        {
          "output_type": "stream",
          "name": "stdout",
          "text": [
            "Best validation accuracy ( 0.728125 ) is achieved with hyperparameters: {'max_depth': 5, 'min_samples_split': 2, 'criterion': 'gini'}\n",
            "Test Set Accuracy: 0.725\n"
          ]
        }
      ]
    },
    {
      "cell_type": "markdown",
      "source": [
        "## Logistic Regression (LR)"
      ],
      "metadata": {
        "id": "NtMINteEZjVO"
      }
    },
    {
      "cell_type": "code",
      "source": [
        "from sklearn.linear_model import LogisticRegression\n",
        "\n",
        "max_iter = [1000,10000]\n",
        "C = [0.01, 0.1, 1, 10, 100,1000]\n",
        "solver = ['liblinear','lbfgs','newton-cg']\n",
        "\n",
        "best_score = 0\n",
        "best_params = {}\n",
        "\n",
        "# Iterate over each combination of hyperparameters\n",
        "for iter in max_iter:\n",
        "    for c in C:\n",
        "      for solv in solver:\n",
        "          logr = LogisticRegression(max_iter=iter, C=c, solver = solv)\n",
        "\n",
        "          # Perform 5-fold cross-validation\n",
        "          scores = cross_val_score(logr, X_train, y_train, cv=5)\n",
        "          \n",
        "          # Calculate the mean cross-validation score\n",
        "          mean_score = scores.mean()\n",
        "\n",
        "          if mean_score > best_score:\n",
        "              best_score = mean_score\n",
        "              best_params = {'max_iter': iter, 'C': c,'solver' : solv }\n",
        "\n",
        "best_logr = LogisticRegression(max_iter=best_params['max_iter'], C=best_params['C'],solver=best_params['solver'])\n",
        "best_logr.fit(X_train, y_train)\n",
        "\n",
        "# Evaluate the model performance on the test set\n",
        "accuracy = best_logr.score(X_test, y_test)\n",
        "\n",
        "# Print the best hyperparameters and the test set performance\n",
        "print('Best validation accuracy (', best_score, ') is achieved with hyperparameters:', best_params)\n",
        "print(\"Test Set Accuracy:\", accuracy)"
      ],
      "metadata": {
        "colab": {
          "base_uri": "https://localhost:8080/"
        },
        "outputId": "272a947d-63b5-48b4-969c-4caecadb31f7",
        "id": "igrSP89QZjVO"
      },
      "execution_count": null,
      "outputs": [
        {
          "output_type": "stream",
          "name": "stdout",
          "text": [
            "Best validation accuracy ( 0.7234375 ) is achieved with hyperparameters: {'max_iter': 1000, 'C': 10, 'solver': 'liblinear'}\n",
            "Test Set Accuracy: 0.705\n"
          ]
        }
      ]
    },
    {
      "cell_type": "markdown",
      "source": [
        "## Support Vector Machines (SVM)"
      ],
      "metadata": {
        "id": "C0Df10xSZjVO"
      }
    },
    {
      "cell_type": "code",
      "source": [
        "from sklearn.model_selection import cross_val_score\n",
        "from sklearn.svm import SVC\n",
        "\n",
        "# Define the parameter values to try\n",
        "C_values = [0.1, 1, 10,100]\n",
        "kernel_values = ['linear', 'poly', 'rbf']\n",
        "\n",
        "best_score = 0\n",
        "best_params = {}\n",
        "\n",
        "# Iterate over each combination of hyperparameters\n",
        "for C in C_values:\n",
        "    for kernel in kernel_values:\n",
        "        # Initialize the SVM classifier with the current hyperparameters\n",
        "        svm = SVC(C=C, kernel=kernel)\n",
        "\n",
        "        # Perform 5-fold cross-validation\n",
        "        scores = cross_val_score(svm, X_val, y_val, cv=5)\n",
        "\n",
        "        # Calculate the mean cross-validation score\n",
        "        mean_score = scores.mean()\n",
        "\n",
        "        # Check if the current hyperparameters yield a better score\n",
        "        if mean_score > best_score:\n",
        "            best_score = mean_score\n",
        "            best_params = {'C': C, 'kernel': kernel}\n",
        "\n",
        "# Train the final SVM model with the best hyperparameters on the entire training set\n",
        "best_svm = SVC(C=best_params['C'], kernel=best_params['kernel'])\n",
        "best_svm.fit(X_train, y_train)\n",
        "\n",
        "from sklearn import metrics\n",
        "y_pred = best_svm.predict(X_test)\n",
        "# Model Accuracy: how often is the classifier correct?\n",
        "# Print the best hyperparameters and the test set performance\n",
        "print('Best validation accuracy (', best_score, ') is achieved with hyperparameters:', best_params)\n",
        "print(\"Test Set Accuracy:\", accuracy)"
      ],
      "metadata": {
        "colab": {
          "base_uri": "https://localhost:8080/"
        },
        "outputId": "cf2b86f0-7b88-452b-c21d-02d0de498864",
        "id": "zVkKWJNHZjVO"
      },
      "execution_count": null,
      "outputs": [
        {
          "output_type": "stream",
          "name": "stdout",
          "text": [
            "Best validation accuracy ( 0.7125 ) is achieved with hyperparameters: {'C': 10, 'kernel': 'rbf'}\n",
            "Test Set Accuracy: 0.705\n"
          ]
        }
      ]
    }
  ]
}